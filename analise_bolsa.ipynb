{
  "cells": [
    {
      "cell_type": "markdown",
      "metadata": {
        "id": "35eJL8Mc61vC"
      },
      "source": [
        "## **Preparando o Ambiente**"
      ]
    },
    {
      "cell_type": "code",
      "execution_count": null,
      "metadata": {
        "id": "LlZG82O_6CNT"
      },
      "outputs": [],
      "source": [
        "pip install yfinance"
      ]
    },
    {
      "cell_type": "code",
      "execution_count": null,
      "metadata": {
        "id": "zkrAXgEz6fEg"
      },
      "outputs": [],
      "source": [
        "pip install pandas"
      ]
    },
    {
      "cell_type": "code",
      "execution_count": null,
      "metadata": {
        "id": "5QG3EOsv6rWE"
      },
      "outputs": [],
      "source": [
        "pip install seaborn"
      ]
    },
    {
      "cell_type": "code",
      "execution_count": null,
      "metadata": {
        "id": "q34TUg6m6t2O"
      },
      "outputs": [],
      "source": [
        "pip install plotly"
      ]
    },
    {
      "cell_type": "markdown",
      "metadata": {
        "id": "lBSsk3i068va"
      },
      "source": [
        "## **Aquisição dos Dados**"
      ]
    },
    {
      "cell_type": "code",
      "execution_count": 6,
      "metadata": {
        "id": "vvr--u5g7Cma"
      },
      "outputs": [],
      "source": [
        "import yfinance as yf\n",
        "import pandas as pd"
      ]
    },
    {
      "cell_type": "code",
      "execution_count": null,
      "metadata": {
        "id": "oz_mX-m87K3f"
      },
      "outputs": [],
      "source": [
        "df = yf.download(\n",
        "    'PETR4.SA',             # altere aqui o código da ação\n",
        "    start='2013-01-01',\n",
        "    end='2022-12-31',\n",
        "    group_by='ticker'\n",
        ")"
      ]
    },
    {
      "cell_type": "code",
      "execution_count": null,
      "metadata": {
        "id": "DmS9tXGe7VVM"
      },
      "outputs": [],
      "source": [
        "df.head()"
      ]
    },
    {
      "cell_type": "markdown",
      "metadata": {
        "id": "fCBLeFUl7ZRQ"
      },
      "source": [
        "## **Visualização dos Dados**"
      ]
    },
    {
      "cell_type": "code",
      "execution_count": null,
      "metadata": {
        "id": "7hncOs4r7cb4"
      },
      "outputs": [],
      "source": [
        "import seaborn as sns \n",
        "sns.set_theme(style='darkgrid')\n",
        "sns.displot(df['Close'].dropna(),kde=True)"
      ]
    },
    {
      "cell_type": "code",
      "execution_count": null,
      "metadata": {
        "id": "1UZiOIdR8CZS"
      },
      "outputs": [],
      "source": [
        "import plotly.offline as po\n",
        "import plotly.graph_objs as pgo\n",
        "dados = [pgo.Scatter(x=df.index, y=df['Close'])]\n",
        "layout = pgo.Layout(\n",
        "    title='Histórico dos Preços da Ação',\n",
        "    yaxis={'title':'Preços'},\n",
        "    xaxis={'title':'Período'}\n",
        ")\n",
        "fig = pgo.Figure(data=dados, layout=layout)\n",
        "po.iplot(fig)"
      ]
    },
    {
      "cell_type": "code",
      "execution_count": null,
      "metadata": {
        "id": "Z2YtZCuz8H-y"
      },
      "outputs": [],
      "source": [
        "minimo=df['Close'].min()\n",
        "print(f'mínimo: R$ {minimo:.2f}')"
      ]
    },
    {
      "cell_type": "code",
      "execution_count": null,
      "metadata": {
        "id": "Gx6wlx_S8Koj"
      },
      "outputs": [],
      "source": [
        "maximo=df['Close'].max()\n",
        "print(f'máximo: R$ {maximo:.2f}')"
      ]
    },
    {
      "cell_type": "code",
      "execution_count": null,
      "metadata": {
        "id": "7NEVEcOo8PRZ"
      },
      "outputs": [],
      "source": [
        "avg=df['Close'].mean()\n",
        "print(f'média: R$ {avg:.2f}')"
      ]
    }
  ],
  "metadata": {
    "colab": {
      "provenance": []
    },
    "kernelspec": {
      "display_name": "Python 3",
      "name": "python3"
    },
    "language_info": {
      "name": "python"
    }
  },
  "nbformat": 4,
  "nbformat_minor": 0
}
